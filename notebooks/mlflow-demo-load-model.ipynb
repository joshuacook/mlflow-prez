{
 "cells": [
  {
   "cell_type": "code",
   "execution_count": null,
   "metadata": {},
   "outputs": [],
   "source": [
    "import mlflow.sklearn\n",
    "import numpy as np\n",
    "import pandas as pd\n",
    "\n",
    "mlflow.set_tracking_uri('http://localhost:5000/')\n",
    "\n",
    "model_name = \"PENGUINS\"\n",
    "model_uri = f\"models:/{model_name}/Production\"\n",
    "model = mlflow.sklearn.load_model(model_uri)\n",
    "\n",
    "dummy_data = pd.DataFrame(data=np.random.rand(10, 2), columns=['bill_length_mm', 'bill_depth_mm'])\n",
    "\n",
    "predictions = model.predict(dummy_data)\n",
    "predictions\n"
   ]
  },
  {
   "cell_type": "code",
   "execution_count": null,
   "metadata": {},
   "outputs": [],
   "source": []
  }
 ],
 "metadata": {
  "kernelspec": {
   "display_name": "computer_vision-ds",
   "language": "python",
   "name": "python3"
  },
  "language_info": {
   "codemirror_mode": {
    "name": "ipython",
    "version": 3
   },
   "file_extension": ".py",
   "mimetype": "text/x-python",
   "name": "python",
   "nbconvert_exporter": "python",
   "pygments_lexer": "ipython3",
   "version": "3.9.16"
  },
  "orig_nbformat": 4
 },
 "nbformat": 4,
 "nbformat_minor": 2
}
